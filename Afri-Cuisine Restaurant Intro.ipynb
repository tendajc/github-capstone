{
 "cells": [
  {
   "cell_type": "markdown",
   "metadata": {},
   "source": [
    "### Afri-Cuisine Restaurant"
   ]
  },
  {
   "cell_type": "markdown",
   "metadata": {},
   "source": [
    "## ***Introduction***"
   ]
  },
  {
   "cell_type": "markdown",
   "metadata": {},
   "source": [
    "African food has remained organically produced for decades now and has always remained delicious and nutritious to the extend that African Entrepreneurs are taking this food beyond the African continent.\n",
    "Venturing into new waters always need proper planning and fact based decision making. And as such before even establishing the restaurant there is need to look into an appropriate neighborhood, an area where people often go and buy and enjoy their food. The business is targeting an area where coffee shops are the most popular or dominant so as to reduce competition from other food restaurants.\n",
    "The stakeholders involved in this endeavor include the the marketing executives, the finance executives and the real estate and investment department. \n",
    "The marketing department is mostly concerned about the location of the restaurant, they want it to have a competitive edge hence the need to establish it in an area short of food restaurants.The marketing department is also looking into an area where this type of cuisine isn't easily available yet.\n",
    "The investment department have romped in the data analytics team to help them locate this suitable area and the finance department once convinced of the outcome from the analytical team will release the funds and bank-roll the establishment of the restaurant\n"
   ]
  },
  {
   "cell_type": "code",
   "execution_count": null,
   "metadata": {},
   "outputs": [],
   "source": []
  }
 ],
 "metadata": {
  "kernelspec": {
   "display_name": "Python 3",
   "language": "python",
   "name": "python3"
  },
  "language_info": {
   "codemirror_mode": {
    "name": "ipython",
    "version": 3
   },
   "file_extension": ".py",
   "mimetype": "text/x-python",
   "name": "python",
   "nbconvert_exporter": "python",
   "pygments_lexer": "ipython3",
   "version": "3.6.8"
  }
 },
 "nbformat": 4,
 "nbformat_minor": 2
}
