{
 "cells": [
  {
   "cell_type": "markdown",
   "metadata": {},
   "source": [
    "### Afri-Cuisine Restaurant"
   ]
  },
  {
   "cell_type": "markdown",
   "metadata": {},
   "source": [
    "## ***Data***"
   ]
  },
  {
   "cell_type": "markdown",
   "metadata": {},
   "source": [
    "To achieve the intended goal as the investor is looking to establish a restaurant in Toronto, i will explore the neighborhoods in Toronto https://en.wikipedia.org/wiki/List_of_postal_codes_of_Canada:_M, will also be making use of the geographical coordinates of the neighborhoods using the Geocoder package, will use csv file that has the geographical coordinates of each postal code: http://cocl.us/Geospatial_data\n",
    "Will also generate maps to visualize neighborhoods and make an analysis thereof"
   ]
  },
  {
   "cell_type": "code",
   "execution_count": null,
   "metadata": {},
   "outputs": [],
   "source": []
  }
 ],
 "metadata": {
  "kernelspec": {
   "display_name": "Python 3",
   "language": "python",
   "name": "python3"
  },
  "language_info": {
   "codemirror_mode": {
    "name": "ipython",
    "version": 3
   },
   "file_extension": ".py",
   "mimetype": "text/x-python",
   "name": "python",
   "nbconvert_exporter": "python",
   "pygments_lexer": "ipython3",
   "version": "3.6.8"
  }
 },
 "nbformat": 4,
 "nbformat_minor": 2
}
